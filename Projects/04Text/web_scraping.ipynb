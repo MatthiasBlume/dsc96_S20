{
 "cells": [
  {
   "cell_type": "markdown",
   "metadata": {},
   "source": [
    "# Getting Data from the Internet\n",
    "\n",
    "There is a ton of good data on the internet, but it can be hard to access.  In this lesson we will learn just enough about web scraping to... get in trouble.  \n",
    "\n",
    "**Important**: stay out of trouble!\n",
    "\n",
    "### Best Practices\n",
    "\n",
    "1. Don't break anything.  Many rapid requests to smaller sites can overload the host server.\n",
    "2. Use a published API if possible - it is more robust and usually much easier!\n",
    "3. Respect the policy published at `robots.txt` \n",
    "4. Don't spoof your UserAgent (or try to trick the server into thinking you are a person)\n",
    "5. Read the Terms of Service for the site and follow it."
   ]
  },
  {
   "cell_type": "markdown",
   "metadata": {},
   "source": [
    "# Requests\n",
    "\n",
    "`requests` is a python package that allows you to use Python to interact with the internet!  There are other packages, but I find `requests` to be much easier to use.\n",
    "\n",
    "In fact, to get the UCSD home page is a simple as\n",
    "```\n",
    "import requests\n",
    "text = requests.get(\"https://ucsd.edu\").text\n",
    "```\n",
    "But before we do that, we need to learn just a little bit more."
   ]
  },
  {
   "cell_type": "markdown",
   "metadata": {},
   "source": [
    "# Status Codes\n",
    "\n",
    "When we request data from a website, the server responds with a HTTP status code.  The most common response is `200` which means things went well.  Other times you will get a different status code saying something else happened - you might be familiar with a `404` which means the page wasn't found.\n",
    "\n",
    "This great site lists http status codes: [https://httpstat.us/](https://httpstat.us/).\n",
    "\n",
    "But better yet, it has example sites that return a certain code, so you can test!  So, for example, https://httpstat.us/404 returns a `404`"
   ]
  },
  {
   "cell_type": "code",
   "execution_count": 1,
   "metadata": {},
   "outputs": [
    {
     "name": "stdout",
     "output_type": "stream",
     "text": [
      "404\n"
     ]
    }
   ],
   "source": [
    "import requests\n",
    "\n",
    "r = requests.get(\"https://httpstat.us/404\")\n",
    "print(r.status_code)"
   ]
  },
  {
   "cell_type": "code",
   "execution_count": 2,
   "metadata": {},
   "outputs": [
    {
     "data": {
      "text/plain": [
       "'404 Not Found'"
      ]
     },
     "execution_count": 2,
     "metadata": {},
     "output_type": "execute_result"
    }
   ],
   "source": [
    "r = requests.get(\"https://httpstat.us/404\")\n",
    "r.status_code\n",
    "r.text"
   ]
  },
  {
   "cell_type": "markdown",
   "metadata": {},
   "source": [
    "You can check if the call went ok with `r.ok` which returns a boolean.\n",
    "\n",
    "After you run the code below, read up on each of the status codes at [https://httpstat.us/](https://httpstat.us/)."
   ]
  },
  {
   "cell_type": "code",
   "execution_count": 3,
   "metadata": {},
   "outputs": [
    {
     "name": "stdout",
     "output_type": "stream",
     "text": [
      "200 ok: True\n",
      "404 ok: False\n",
      "403 ok: False\n",
      "429 ok: False\n"
     ]
    }
   ],
   "source": [
    "statusCodes = [200, 404, 403, 429]\n",
    "\n",
    "for statusCode in statusCodes:\n",
    "    r = requests.get(\"https://httpstat.us/\" + str(statusCode))\n",
    "    print(str(statusCode) + \" ok: \" + str(r.ok))"
   ]
  },
  {
   "cell_type": "code",
   "execution_count": 5,
   "metadata": {},
   "outputs": [
    {
     "ename": "HTTPError",
     "evalue": "404 Client Error: Not Found for url: https://httpstat.us/404",
     "output_type": "error",
     "traceback": [
      "\u001b[0;31m---------------------------------------------------------------------------\u001b[0m",
      "\u001b[0;31mHTTPError\u001b[0m                                 Traceback (most recent call last)",
      "\u001b[0;32m<ipython-input-5-c3be1fd78071>\u001b[0m in \u001b[0;36m<module>\u001b[0;34m\u001b[0m\n\u001b[1;32m      2\u001b[0m \u001b[0;34m\u001b[0m\u001b[0m\n\u001b[1;32m      3\u001b[0m \u001b[0mr\u001b[0m \u001b[0;34m=\u001b[0m \u001b[0mrequests\u001b[0m\u001b[0;34m.\u001b[0m\u001b[0mget\u001b[0m\u001b[0;34m(\u001b[0m\u001b[0;34m\"https://httpstat.us/404\"\u001b[0m\u001b[0;34m)\u001b[0m\u001b[0;34m\u001b[0m\u001b[0;34m\u001b[0m\u001b[0m\n\u001b[0;32m----> 4\u001b[0;31m \u001b[0mr\u001b[0m\u001b[0;34m.\u001b[0m\u001b[0mraise_for_status\u001b[0m\u001b[0;34m(\u001b[0m\u001b[0;34m)\u001b[0m\u001b[0;34m\u001b[0m\u001b[0;34m\u001b[0m\u001b[0m\n\u001b[0m",
      "\u001b[0;32m/opt/conda/lib/python3.6/site-packages/requests/models.py\u001b[0m in \u001b[0;36mraise_for_status\u001b[0;34m(self)\u001b[0m\n\u001b[1;32m    891\u001b[0m \u001b[0;34m\u001b[0m\u001b[0m\n\u001b[1;32m    892\u001b[0m         \u001b[0;32mif\u001b[0m \u001b[0mhttp_error_msg\u001b[0m\u001b[0;34m:\u001b[0m\u001b[0;34m\u001b[0m\u001b[0;34m\u001b[0m\u001b[0m\n\u001b[0;32m--> 893\u001b[0;31m             \u001b[0;32mraise\u001b[0m \u001b[0mHTTPError\u001b[0m\u001b[0;34m(\u001b[0m\u001b[0mhttp_error_msg\u001b[0m\u001b[0;34m,\u001b[0m \u001b[0mresponse\u001b[0m\u001b[0;34m=\u001b[0m\u001b[0mself\u001b[0m\u001b[0;34m)\u001b[0m\u001b[0;34m\u001b[0m\u001b[0;34m\u001b[0m\u001b[0m\n\u001b[0m\u001b[1;32m    894\u001b[0m \u001b[0;34m\u001b[0m\u001b[0m\n\u001b[1;32m    895\u001b[0m     \u001b[0;32mdef\u001b[0m \u001b[0mclose\u001b[0m\u001b[0;34m(\u001b[0m\u001b[0mself\u001b[0m\u001b[0;34m)\u001b[0m\u001b[0;34m:\u001b[0m\u001b[0;34m\u001b[0m\u001b[0;34m\u001b[0m\u001b[0m\n",
      "\u001b[0;31mHTTPError\u001b[0m: 404 Client Error: Not Found for url: https://httpstat.us/404"
     ]
    }
   ],
   "source": [
    "# Or raise an exception when there is a not-ok status code\n",
    "\n",
    "r = requests.get(\"https://httpstat.us/404\")\n",
    "r.raise_for_status()"
   ]
  },
  {
   "cell_type": "markdown",
   "metadata": {},
   "source": [
    "# Robots.txt\n",
    "\n",
    "Many sites have a published policy allowing or disallowing automatic access to their site.  They may also specify which user-agent is allowed to automatically access specific part of the site. They use a text file `robots.txt` and you can learn more about it [here](https://moz.com/learn/seo/robotstxt).\n",
    "\n",
    "The code below checks if the `robot.txt` file prohibits you from scraping the site.  Remember the best practices above - just because you aren't prohibited by the robots policy doesn't mean you can scrape the site!"
   ]
  },
  {
   "cell_type": "code",
   "execution_count": 6,
   "metadata": {},
   "outputs": [],
   "source": [
    "from urllib.parse import urlparse\n",
    "import urllib.robotparser\n",
    "\n",
    "# This code checks the robots.txt file\n",
    "def canFetch(url):\n",
    "\n",
    "    parsed_uri = urlparse(url)\n",
    "    domain = '{uri.scheme}://{uri.netloc}/'.format(uri=parsed_uri)\n",
    "\n",
    "    rp = urllib.robotparser.RobotFileParser()\n",
    "    rp.set_url(domain + \"/robots.txt\")\n",
    "    try:\n",
    "        rp.read()\n",
    "        canFetchBool = rp.can_fetch(\"*\", url)\n",
    "    except:\n",
    "        canFetchBool = None\n",
    "    \n",
    "    return canFetchBool"
   ]
  },
  {
   "cell_type": "code",
   "execution_count": 7,
   "metadata": {},
   "outputs": [
    {
     "data": {
      "text/plain": [
       "False"
      ]
     },
     "execution_count": 7,
     "metadata": {},
     "output_type": "execute_result"
    }
   ],
   "source": [
    "url = \"http://blink.ucsd.edu/search\"\n",
    "canFetch(url)"
   ]
  },
  {
   "cell_type": "code",
   "execution_count": 8,
   "metadata": {},
   "outputs": [
    {
     "data": {
      "text/plain": [
       "True"
      ]
     },
     "execution_count": 8,
     "metadata": {},
     "output_type": "execute_result"
    }
   ],
   "source": [
    "url = \"https://datascience.ucsd.edu/academics/undergraduate/\"\n",
    "canFetch(url)"
   ]
  },
  {
   "cell_type": "markdown",
   "metadata": {},
   "source": [
    "# Getting the HTML\n",
    "\n",
    "Now we can request a website!  Let's see what is on the UCSD Data Science Events page."
   ]
  },
  {
   "cell_type": "code",
   "execution_count": 9,
   "metadata": {
    "scrolled": true
   },
   "outputs": [
    {
     "name": "stdout",
     "output_type": "stream",
     "text": [
      "<!DOCTYPE html>\r\n",
      "<html lang=\"en-US\"><head>\r\n",
      "    <meta charset=\"UTF-8\">\r\n",
      "\t\t            <meta name=\"title\" content=\"\">\r\n",
      "            <meta name=\"keywords\" content=\"\">\r\n",
      "          \t<meta name=\"description\" content=\"\">\r\n",
      "                <link rel=\"profile\" href=\"http://gmpg.org/xfn/11\">\r\n",
      "    <link rel=\"pingback\" href=\"https://datascience.ucsd.edu/xmlrpc.php\">    \r\n",
      "                <link rel=\"shortcut icon\" href=\"https://devdatasucsand.com/wp-content/uploads/2019/02/Single-Icon-white-PNG.png\">\r\n",
      "            <title>Undergraduate &#8211; Halıcıoğlu Data Science Institute</title>\n",
      "<meta name=\"viewport\" content=\"width=device-width, initial-scale=1.0, maximum-scale=1.0, user-scalable=0\"><link rel='dns-prefetch' href='//fonts.googleapis.com' />\n",
      "<link rel='dns-prefetch' href='//s.w.org' />\n",
      "<link rel=\"alternate\" type=\"application/rss+xml\" title=\"Halıcıoğlu Data Science Institute &raquo; Feed\" href=\"https://datascience.ucsd.edu/feed/\" />\n",
      "<link rel=\"alternate\" type=\"application/rss+xml\" title=\"Halıcıoğlu Data Science Institute &raquo; Comments Feed\" href=\"https://datascience.ucsd.edu/comments/feed/\" />\n",
      "<!-- This site uses the Google Analytics by MonsterInsights plugin v7.10.3 - Using Analytics tracking - https://www.monsterinsights.com/ -->\r\n",
      "<script type=\"text/javascript\" data-cfasync=\"false\">\r\n",
      "\tvar mi_version         = '7.10.3';\r\n",
      "\tvar mi_track_user      = true;\r\n",
      "\tvar mi_no_track_reason = '';\r\n",
      "\t\r\n",
      "\tvar disableStr = 'ga-disable-UA-138232995-1';\r\n",
      "\r\n",
      "\t/* Function to detect opted out users */\r\n",
      "\tfunction __gaTrackerIsOptedOut() {\r\n",
      "\t\treturn document.cookie.indexOf(disableStr + '=true') > -1;\r\n",
      "\t}\r\n",
      "\r\n",
      "\t/* Disable tracking if the opt-out cookie exists. */\r\n",
      "\tif ( __gaTrackerIsOptedOut() ) {\r\n",
      "\t\twindow[disableStr] = true;\r\n",
      "\t}\r\n",
      "\r\n",
      "\t/* Opt-out function */\r\n",
      "\tfunction __gaTrackerOptout() {\r\n",
      "\t  document.cookie = disableStr + '=true; expires=Thu, 31 Dec 2099 23:59:59 UTC; path=/';\r\n",
      "\t  window[disableStr] = true;\r\n",
      "\t}\r\n",
      "\t\r\n",
      "\tif ( mi_track_user ) {\r\n",
      "\t\t(function(i,s,o,g,r,a,m){i['GoogleAnalyticsObject']=r;i[r]=i[r]||function(){\r\n",
      "\t\t\t(i[r].q=i[r].q||[]).push(arguments)},i[r].l=1*new Date();a=s.createElement(o),\r\n",
      "\t\t\tm=s.getElementsByTagName(o)[0];a.async=1;a.src=g;m.parentNode.insertBefore(a,m)\r\n",
      "\t\t})(window,document,'script','//www.google-analytics.com/analytics.js','__gaTracker');\r\n",
      "\r\n",
      "\t\t__gaTracker('create', 'UA-138232995-1', 'auto');\n",
      "\t\t__gaTracker('set', 'forceSSL', true);\n",
      "\t\t__gaTracker('require', 'displayfeatures');\n",
      "\t\t__gaTracker('send','pageview');\n",
      "\t} else {\r\n",
      "\t\tconsole.log( \"\" );\r\n",
      "\t\t(function() {\r\n",
      "\t\t\t/* https://developers.google.com/analytics/devguides/collection/analyticsjs/ */\r\n",
      "\t\t\tvar noopfn = function() {\r\n",
      "\t\t\t\treturn null;\r\n",
      "\t\t\t};\r\n",
      "\t\t\tvar noopnullfn = function() {\r\n",
      "\t\t\t\treturn null;\r\n",
      "\t\t\t};\r\n",
      "\t\t\tvar Tracker = function() {\r\n",
      "\t\t\t\treturn null;\r\n",
      "\t\t\t};\r\n",
      "\t\t\tvar p = Tracker.prototype;\r\n",
      "\t\t\tp.get = noopfn;\r\n",
      "\t\t\tp.set = noopfn;\r\n",
      "\t\t\tp.send = noopfn;\r\n",
      "\t\t\tvar __gaTracker = function() {\r\n",
      "\t\t\t\tvar len = arguments.length;\r\n",
      "\t\t\t\tif ( len === 0 ) {\r\n",
      "\t\t\t\t\treturn;\r\n",
      "\t\t\t\t}\r\n",
      "\t\t\t\tvar f = arguments[len-1];\r\n",
      "\t\t\t\tif ( typeof f !== 'object' || f === null || typeof f.hitCallback !== 'function' ) {\r\n",
      "\t\t\t\t\tconsole.log( 'Not running function __gaTracker(' + arguments[0] + \" ....) because you are not being tracked. \" + mi_no_track_reason );\r\n",
      "\t\t\t\t\treturn;\r\n",
      "\t\t\t\t}\r\n",
      "\t\t\t\ttry {\r\n",
      "\t\t\t\t\tf.hitCallback();\r\n",
      "\t\t\t\t} catch (ex) {\r\n",
      "\r\n",
      "\t\t\t\t}\r\n",
      "\t\t\t};\r\n",
      "\t\t\t__gaTracker.create = function() {\r\n",
      "\t\t\t\treturn new Tracker();\r\n",
      "\t\t\t};\r\n",
      "\t\t\t__gaTracker.getByName = noopnullfn;\r\n",
      "\t\t\t__gaTracker.getAll = function() {\r\n",
      "\t\t\t\treturn [];\r\n",
      "\t\t\t};\r\n",
      "\t\t\t__gaTracker.remove = noopfn;\r\n",
      "\t\t\twindow['__gaTracker'] = __gaTracker;\r\n",
      "\t\t\t\t\t})();\r\n",
      "\t\t}\r\n",
      "</script>\r\n",
      "<!-- / Google Analytics by MonsterInsights -->\r\n",
      "\t\t<script type=\"text/javascript\">\n",
      "\t\t\twindow._wpemojiSettings = {\"baseUrl\":\"https:\\/\\/s.w.org\\/images\\/core\\/emoji\\/12.0.0-1\\/72x72\\/\",\"ext\":\".png\",\"svgUrl\":\"https:\\/\\/s.w.org\\/images\\/core\\/emoji\\/12.0.0-1\\/svg\\/\",\"svgExt\":\".svg\",\"source\":{\"concatemoji\":\"https:\\/\\/datascience.ucsd.edu\\/wp-includes\\/js\\/wp-emoji-release.min.js?ver=5.2.3\"}};\n",
      "\t\t\t!function(a,b,c){function d(a,b){var c=String.fromCharCode;l.clearRect(0,0,k.width,k.height),l.fillText(c.apply(this,a),0,0);var d=k.toDataURL();l.clearRect(0,0,k.width,k.height),l.fillText(c.apply(this,b),0,0);var e=k.toDataURL();return d===e}function e(a){var b;if(!l||!l.fillText)return!1;switch(l.textBaseline=\"top\",l.font=\"600 32px Arial\",a){case\"flag\":return!(b=d([55356,56826,55356,56819],[55356,56826,8203,55356,56819]))&&(b=d([55356,57332,56128,56423,56128,56418,56128,56421,56128,56430,56128,56423,56128,56447],[55356,57332,8203,56128,56423,8203,56128,56418,8203,56128,56421,8203,56128,56430,8203,56128,56423,8203,56128,56447]),!b);case\"emoji\":return b=d([55357,56424,55356,57342,8205,55358,56605,8205,55357,56424,55356,57340],[55357,56424,55356,57342,8203,55358,56605,8203,55357,56424,55356,57340]),!b}return!1}function f(a){var c=b.createElement(\"script\");c.src=a,c.defer=c.type=\"text/javascript\",b.getElementsByTagName(\"head\")[0].appendChild(c)}var g,h,i,j,k=b.createElement(\"canvas\"),l=k.getContext&&k.getContext(\"2d\");for(j=Array(\"flag\",\"emoji\"),c.supports={everything:!0,everythingExceptFlag:!0},i=0;i<j.length;i++)c.supports[j[i]]=e(j[i]),c.supports.everything=c.supports.everything&&c.supports[j[i]],\"flag\"!==j[i]&&(c.supports.everythingExceptFlag=c.supports.everythingExceptFlag&&c.supports[j[i]]);c.supports.everythingExceptFlag=c.supports.everythingExceptFlag&&!c.supports.flag,c.DOMReady=!1,c.readyCallback=function(){c.DOMReady=!0},c.supports.everything||(h=function(){c.readyCallback()},b.addEventListener?(b.addEventListener(\"DOMContentLoaded\",h,!1),a.addEventListener(\"load\",h,!1)):(a.attachEvent(\"onload\",h),b.attachEvent(\"onreadystatechange\",function(){\"complete\"===b.readyState&&c.readyCallback()})),g=c.source||{},g.concatemoji?f(g.concatemoji):g.wpemoji&&g.twemoji&&(f(g.twemoji),f(g.wpemoji)))}(window,document,window._wpemojiSettings);\n",
      "\t\t</script>\n",
      "\t\t<style type=\"text/css\">\n",
      "img.wp-smiley,\n",
      "img.emoji {\n",
      "\tdisplay: inline !important;\n",
      "\tborder: none !important;\n",
      "\tbox-shadow: none !important;\n",
      "\theight: 1em !important;\n",
      "\twidth: 1em !important;\n",
      "\tmargin: 0 .07em !important;\n",
      "\tvertical-align: -0.1em !important;\n",
      "\tbackground: none !important;\n",
      "\tpadding: 0 !important;\n",
      "}\n",
      "</style>\n",
      "\t<link rel='stylesheet' id='font_Fira+Sans-css'  href='//fonts.googleapis.com/css?family=Fira+Sans%3Aregular&#038;ver=5.2.3' type='text/css' media='all' />\n",
      "<link rel='stylesheet' id='wp-block-library-css'  href='/wp-includes/css/dist/block-library/style.min.css?ver=5.2.3' type='text/css' media='all' />\n",
      "<link rel='stylesheet' id='aptf-bxslider-css'  href='/wp-content/plugins/accesspress-twitter-feed/css/jquery.bxslider.css?ver=1.6.2' type='text/css' media='all' />\n",
      "<link rel='stylesheet' id='aptf-front-css-css'  href='/wp-content/plugins/accesspress-twitter-feed/css/frontend.css?ver=1.6.2' type='text/css' media='all' />\n",
      "<link rel='stylesheet' id='aptf-font-css-css'  href='/wp-content/plugins/accesspress-twitter-feed/css/fonts.css?ver=1.6.2' type='text/css' media='all' />\n",
      "<link rel='stylesheet' id='buttons-css'  href='/wp-includes/css/buttons.min.css?ver=5.2.3' type='text/css' media='all' />\n",
      "<link rel='stylesheet' id='dashicons-css'  href='/wp-includes/css/dashicons.min.css?ver=5.2.3' type='text/css' media='all' />\n",
      "<link rel='stylesheet' id='mediaelement-css'  href='/wp-includes/js/mediaelement/mediaelementplayer-legacy.min.css?ver=4.2.6-78496d1' type='text/css' media='all' />\n",
      "<link rel='stylesheet' id='wp-mediaelement-css'  href='/wp-includes/js/mediaelement/wp-mediaelement.min.css?ver=5.2.3' type='text/css' media='all' />\n",
      "<link rel='stylesheet' id='media-views-css'  href='/wp-includes/css/media-views.min.css?ver=5.2.3' type='text/css' media='all' />\n",
      "<link rel='stylesheet' id='imgareaselect-css'  href='/wp-includes/js/imgareaselect/imgareaselect.css?ver=0.9.8' type='text/css' media='all' />\n",
      "<link rel='stylesheet' id='cs_swiper_css-css'  href='/wp-content/plugins/cs-framework/assets/css/swiper.css?ver=5.2.3' type='text/css' media='all' />\n",
      "<link rel='stylesheet' id='iconmoon_css-css'  href='/wp-content/themes/uoc/include/assets/icon/css/iconmoon.css?ver=5.2.3' type='text/css' media='all' />\n",
      "<link rel='stylesheet' id='bootstrap_css-css'  href='/wp-content/themes/uoc/assets/css/bootstrap.min.css?ver=5.2.3' type='text/css' media='all' />\n",
      "<link rel='stylesheet' id='uoc-style-css'  href='/wp-content/themes/uoc/style.css?ver=5.2.3' type='text/css' media='all' />\n",
      "<link rel='stylesheet' id='owl_carousel-css'  href='/wp-content/themes/uoc/assets/css/owl.carousel.css?ver=5.2.3' type='text/css' media='all' />\n",
      "<link rel='stylesheet' id='widget_css-css'  href='/wp-content/themes/uoc/assets/css/widget.css?ver=5.2.3' type='text/css' media='all' />\n",
      "<link rel='stylesheet' id='datepicker_css-css'  href='/wp-content/themes/uoc/assets/css/jquery.datetimepicker.css?ver=5.2.3' type='text/css' media='all' />\n",
      "<link rel='stylesheet' id='responsive_css-css'  href='/wp-content/themes/uoc/assets/css/responsive.css?ver=5.2.3' type='text/css' media='all' />\n",
      "<link rel='stylesheet' id='bootstrap-theme_css-css'  href='/wp-content/themes/uoc/assets/css/bootstrap-theme.css?ver=5.2.3' type='text/css' media='all' />\n",
      "<link rel='stylesheet' id='prettyPhoto_css-css'  href='/wp-content/themes/uoc/assets/css/prettyphoto.css?ver=5.2.3' type='text/css' media='all' />\n",
      "<link rel='stylesheet' id='flexslider_css-css'  href='/wp-content/themes/uoc/assets/css/flexslider.css?ver=5.2.3' type='text/css' media='all' />\n",
      "<link rel='stylesheet' id='theme_style_css-css'  href='https://datascience.ucsd.edu/wp-content/themes/uoc/include/theme_styles.php?ver=5.2.3' type='text/css' media='all' />\n",
      "<link rel='stylesheet' id='newsletter-css'  href='/wp-content/plugins/newsletter/style.css?ver=6.4.2' type='text/css' media='all' />\n",
      "<link rel='stylesheet' id='elementor-icons-css'  href='/wp-content/plugins/elementor/assets/lib/eicons/css/elementor-icons.min.css?ver=5.5.0' type='text/css' media='all' />\n",
      "<link rel='stylesheet' id='elementor-animations-css'  href='/wp-content/plugins/elementor/assets/lib/animations/animations.min.css\n",
      "\n",
      "\n",
      "... 95052 additional characters\n"
     ]
    }
   ],
   "source": [
    "url = \"https://datascience.ucsd.edu/academics/undergraduate/\"\n",
    "\n",
    "r = requests.get(url)\n",
    "    \n",
    "urlText = r.text\n",
    "\n",
    "Nchars = 10000\n",
    "print(urlText[:Nchars]) # Print the first 500 characters\n",
    "print(\"\\n\\n... \" + str(len(urlText)-Nchars) + \" additional characters\")\n"
   ]
  },
  {
   "cell_type": "code",
   "execution_count": 10,
   "metadata": {},
   "outputs": [
    {
     "data": {
      "text/plain": [
       "105052"
      ]
     },
     "execution_count": 10,
     "metadata": {},
     "output_type": "execute_result"
    }
   ],
   "source": [
    "len(r.text)"
   ]
  },
  {
   "cell_type": "markdown",
   "metadata": {},
   "source": [
    "# Cleaning\n",
    "\n",
    "Wow, that is gross looking!  It is raw HTML, which the browser uses to make the viewable site.  To process it we can use [Beautiful Soup 4](https://www.crummy.com/software/BeautifulSoup/bs4/doc/).\n",
    "\n",
    "**Warning** BeautifulSoup has changed quite a bit between versions, so make sure you are looking at documentation for the version you are using (4 here).\n",
    "Let's follow this example on using BeautifulSoup: ([example](https://codeburst.io/web-scraping-101-with-python-beautiful-soup-bb617be1f486))"
   ]
  },
  {
   "cell_type": "code",
   "execution_count": 11,
   "metadata": {},
   "outputs": [],
   "source": [
    "from bs4 import BeautifulSoup\n",
    "soup = BeautifulSoup(urlText, 'html.parser')"
   ]
  },
  {
   "cell_type": "code",
   "execution_count": 12,
   "metadata": {},
   "outputs": [
    {
     "data": {
      "text/plain": [
       "True"
      ]
     },
     "execution_count": 12,
     "metadata": {},
     "output_type": "execute_result"
    }
   ],
   "source": [
    "# let's check once more if it is safe and legal to scrape from.\n",
    "canFetch(url)"
   ]
  },
  {
   "cell_type": "code",
   "execution_count": 13,
   "metadata": {},
   "outputs": [],
   "source": [
    "page_response = requests.get(url,timeout=5)\n",
    "# here, we fetch the content from the url, using the requests library"
   ]
  },
  {
   "cell_type": "code",
   "execution_count": 14,
   "metadata": {},
   "outputs": [],
   "source": [
    "page_content = BeautifulSoup(page_response.content, \"html.parser\")\n",
    "#we use the html parser to parse the url content and store it in a variable.\n",
    "\n",
    "paragraphs = page_content.find_all(\"p\")\n",
    "# Here we get all content within <p> paragraphs"
   ]
  },
  {
   "cell_type": "code",
   "execution_count": 14,
   "metadata": {},
   "outputs": [
    {
     "name": "stdout",
     "output_type": "stream",
     "text": [
      "<p><span style=\"letter-spacing: 0.2px;\">The goal of these programs is to train a generation of students who are equally versed in predictive modeling, data analysis and computational techniques.</span></p>\n",
      "<p>The undergraduate major in Data Science will prepare our students for a career in the data-centric society and to advance knowledge in the emerging field of Data Science.</p>\n",
      "<p>The major consists of 116 units in addition to general education requirements, some of which may be covered by the major. The required courses include courses in mathematics (especially linear algebra and probability), computer science (programming, data structures and abstractions, data mining), and statistics (estimation, testing, and exploratory data analysis).</p>\n",
      "<p>A 12-unit lower division course sequence in physics, chemistry or biology will strengthen background in natural sciences. The program includes 20 units of elective courses that enable students to embark upon an in-depth exploration of one or more areas in which Data Science can profitably be applied. Alternatively, students can choose to explore the mathematical, statistical and computational foundations of Data Science in even greater depth. All majors will be required to undertake a two-quarter senior project that will give them an opportunity to creatively synthesize much of what they have learned in their courses.</p>\n",
      "<p>The major is modeled after our successful interdisciplinary programs in computer engineering and bioinformatics/systems biology across multiple departments and divisions. Administratively, the program will be overseen by a coordination committee drawn from representatives across the participating departments under the purview of one or more cognizant deans.</p>\n",
      "<p>Beginning in Fall 2017, students can declare a minor in data sciences from other participating departments. The minor might include, for instance, students of literature who are interested in conducting statistical analyses of digital corpora, or psychology majors who wish to conduct large-scale human subject experiments using crowd sourcing, or business and economics students who need to understand computational and statistical methods for analyzing market and customer preference data. The minor will provide basic training in computer programming, linear algebra, as well as probability and statistics, and a high-level overview of the different types of data and the methodologies appropriate to each. By the end of the minor, they will be able to write programs that preprocess data suitably, and that invoke a variety of signal processing, statistics, and machine learning subroutines to extract meaning from the data. Going beyond participation in offering minors, the coordination committee will encourage participation of additional departments in creating data science related majors that are specific to their domain needs.</p>\n",
      "<p>©2019 Regents of the University of California</p>\n"
     ]
    }
   ],
   "source": [
    "# let's see it one by one:\n",
    "for paragraph in paragraphs:\n",
    "    print(paragraph)"
   ]
  },
  {
   "cell_type": "code",
   "execution_count": 15,
   "metadata": {},
   "outputs": [
    {
     "name": "stdout",
     "output_type": "stream",
     "text": [
      "The goal of these programs is to train a generation of students who are equally versed in predictive modeling, data analysis and computational techniques.\n",
      "The undergraduate major in Data Science will prepare our students for a career in the data-centric society and to advance knowledge in the emerging field of Data Science.\n",
      "The major consists of 116 units in addition to general education requirements, some of which may be covered by the major. The required courses include courses in mathematics (especially linear algebra and probability), computer science (programming, data structures and abstractions, data mining), and statistics (estimation, testing, and exploratory data analysis).\n",
      "A 12-unit lower division course sequence in physics, chemistry or biology will strengthen background in natural sciences. The program includes 20 units of elective courses that enable students to embark upon an in-depth exploration of one or more areas in which Data Science can profitably be applied. Alternatively, students can choose to explore the mathematical, statistical and computational foundations of Data Science in even greater depth. All majors will be required to undertake a two-quarter senior project that will give them an opportunity to creatively synthesize much of what they have learned in their courses.\n",
      "The major is modeled after our successful interdisciplinary programs in computer engineering and bioinformatics/systems biology across multiple departments and divisions. Administratively, the program will be overseen by a coordination committee drawn from representatives across the participating departments under the purview of one or more cognizant deans.\n",
      "Beginning in Fall 2017, students can declare a minor in data sciences from other participating departments. The minor might include, for instance, students of literature who are interested in conducting statistical analyses of digital corpora, or psychology majors who wish to conduct large-scale human subject experiments using crowd sourcing, or business and economics students who need to understand computational and statistical methods for analyzing market and customer preference data. The minor will provide basic training in computer programming, linear algebra, as well as probability and statistics, and a high-level overview of the different types of data and the methodologies appropriate to each. By the end of the minor, they will be able to write programs that preprocess data suitably, and that invoke a variety of signal processing, statistics, and machine learning subroutines to extract meaning from the data. Going beyond participation in offering minors, the coordination committee will encourage participation of additional departments in creating data science related majors that are specific to their domain needs.\n",
      "©2019 Regents of the University of California\n"
     ]
    }
   ],
   "source": [
    "#let's get rid of all the html code:\n",
    "for paragraph in paragraphs:\n",
    "    print(paragraph.text)"
   ]
  },
  {
   "cell_type": "markdown",
   "metadata": {},
   "source": [
    "# Next steps\n",
    "\n",
    "From here you can do a number of different things!\n",
    "\n",
    "* Choose a website that you like! Check if you can web scape it!\n",
    "* Get the text\n",
    "* Pull text down and use NLP from last week (like sentiment analysis)\n",
    "* Monitor a site daily for changes.\n",
    "* Use the text to create your own search engine!"
   ]
  },
  {
   "cell_type": "code",
   "execution_count": 16,
   "metadata": {},
   "outputs": [],
   "source": [
    "# your code here!"
   ]
  },
  {
   "cell_type": "code",
   "execution_count": null,
   "metadata": {},
   "outputs": [],
   "source": []
  }
 ],
 "metadata": {
  "kernelspec": {
   "display_name": "Python 3",
   "language": "python",
   "name": "python3"
  },
  "language_info": {
   "codemirror_mode": {
    "name": "ipython",
    "version": 3
   },
   "file_extension": ".py",
   "mimetype": "text/x-python",
   "name": "python",
   "nbconvert_exporter": "python",
   "pygments_lexer": "ipython3",
   "version": "3.6.7"
  }
 },
 "nbformat": 4,
 "nbformat_minor": 2
}
