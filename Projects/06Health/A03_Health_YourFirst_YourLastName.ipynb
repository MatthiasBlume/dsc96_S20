{
 "cells": [
  {
   "cell_type": "code",
   "execution_count": 2,
   "metadata": {},
   "outputs": [],
   "source": [
    "# import packages\n",
    "import numpy as np\n",
    "import pandas as pd\n",
    "import re\n",
    "import matplotlib.pyplot as mpl"
   ]
  },
  {
   "cell_type": "markdown",
   "metadata": {},
   "source": [
    "## Assignment\n",
    "\n",
    "#### Your sensor\n",
    "\n",
    "1) put all the code you developed to extract data from json\n",
    "\n",
    "2) follow point by point that .ipynb\n",
    "\n",
    "************\n",
    "#### Gold standard\n",
    "\n",
    "1) put all the code you developed to extract data from json\n",
    "\n",
    "2) follow point by point that .ipynb\n",
    "\n",
    "\n",
    "************\n",
    "#### Comparison\n",
    "\n",
    "1) show statistical comparison:\n",
    "- n of points that are different between each sensor and GS, or \n",
    "- consider only deep sleep, which is more accurate? and if we consider only REM?\n",
    "\n",
    "2) plot both sensors and the gold standard\n",
    "\n",
    "3) plot interesting comparisons between the datasets (try it out)"
   ]
  },
  {
   "cell_type": "code",
   "execution_count": 3,
   "metadata": {},
   "outputs": [],
   "source": [
    "# your code"
   ]
  },
  {
   "cell_type": "code",
   "execution_count": null,
   "metadata": {},
   "outputs": [],
   "source": []
  }
 ],
 "metadata": {
  "kernelspec": {
   "display_name": "Python 3",
   "language": "python",
   "name": "python3"
  },
  "language_info": {
   "codemirror_mode": {
    "name": "ipython",
    "version": 3
   },
   "file_extension": ".py",
   "mimetype": "text/x-python",
   "name": "python",
   "nbconvert_exporter": "python",
   "pygments_lexer": "ipython3",
   "version": "3.7.7"
  }
 },
 "nbformat": 4,
 "nbformat_minor": 1
}
