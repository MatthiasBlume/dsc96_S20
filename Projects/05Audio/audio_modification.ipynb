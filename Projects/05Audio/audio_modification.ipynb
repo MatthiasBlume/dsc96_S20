{
 "cells": [
  {
   "cell_type": "markdown",
   "metadata": {},
   "source": [
    "# Audio Processing\n",
    "\n",
    "Day 2: Playing with sounds + DIY speaking recognition (silence versus talking)"
   ]
  },
  {
   "cell_type": "markdown",
   "metadata": {},
   "source": [
    "# Recorded Sounds\n",
    "\n",
    "Import `data/first_sound.wav` as an array using the provided code.  Then look at some statistics, including min, max, mean, and some raw samples.  Perhaps even plot it!"
   ]
  },
  {
   "cell_type": "code",
   "execution_count": 8,
   "metadata": {},
   "outputs": [],
   "source": [
    "#% matplotlib inline\n",
    "import matplotlib.pyplot as mpl"
   ]
  },
  {
   "cell_type": "code",
   "execution_count": 9,
   "metadata": {},
   "outputs": [],
   "source": [
    "from scipy.io.wavfile import read\n",
    "import numpy as np\n",
    "\n",
    "# Read in wav file as an array\n",
    "a = read(\"data/first_sound.wav\")\n",
    "samplingRate = a[0]\n",
    "audioData = a[1]"
   ]
  },
  {
   "cell_type": "code",
   "execution_count": 10,
   "metadata": {},
   "outputs": [
    {
     "data": {
      "image/png": "[encoded data removed]",
      "text/plain": [
       "<Figure size 432x288 with 1 Axes>"
      ]
     },
     "metadata": {
      "needs_background": "light"
     },
     "output_type": "display_data"
    }
   ],
   "source": [
    "# Your code here\n",
    "def print_wave(signal,n_samples):\n",
    "    fontsizeV = 12\n",
    "    mpl.plot(signal[:n_samples])\n",
    "    mpl.xlabel('Time',fontsize=fontsizeV)\n",
    "    mpl.ylabel('Amplitude',fontsize=fontsizeV)\n",
    "    #mpl.title('Title')\n",
    "    mpl.grid(True)\n",
    "    mpl.tight_layout()\n",
    "    \n",
    "print_wave(audioData,len(audioData))"
   ]
  },
  {
   "cell_type": "markdown",
   "metadata": {},
   "source": [
    "Listen to audio from within the notebook using: `IPython.display.Audio`"
   ]
  },
  {
   "cell_type": "code",
   "execution_count": null,
   "metadata": {},
   "outputs": [],
   "source": [
    "from IPython import display\n",
    "display.Audio(audioData, rate = samplingRate)"
   ]
  },
  {
   "cell_type": "markdown",
   "metadata": {},
   "source": [
    "# Add Noise\n",
    "\n",
    "Add noise to the recording, matching the maximum value of the recording to the maximum value of the noise.  Then use the provided code to store it as a wav file.  Download it and listen -- or listen to it in the notebook."
   ]
  },
  {
   "cell_type": "code",
   "execution_count": null,
   "metadata": {},
   "outputs": [],
   "source": [
    "# Your code here\n",
    "import random\n",
    "audioNoise = np.random.randn(len(audioData))* np.max(audioData)*0.5\n",
    "\n",
    "audioWithNoise = audioData + audioNoise"
   ]
  },
  {
   "cell_type": "code",
   "execution_count": null,
   "metadata": {},
   "outputs": [],
   "source": [
    "from scipy.io.wavfile import write\n",
    "\n",
    "# Store the noise as a wav file\n",
    "scaled = np.int16(audioWithNoise/np.max(np.abs(audioWithNoise)) * 32767)\n",
    "write('data/output_with_noise.wav', 44100, scaled)"
   ]
  },
  {
   "cell_type": "code",
   "execution_count": null,
   "metadata": {},
   "outputs": [],
   "source": [
    "display.Audio(scaled, rate = samplingRate)"
   ]
  },
  {
   "cell_type": "markdown",
   "metadata": {},
   "source": [
    "# Trim the quiet parts\n",
    "\n",
    "There are quite a few long pauses in the recording.  Using the first version, without the noise, write some code that will remove any pause longer than a half second.  Write down the wav file and see if it did what you thought."
   ]
  },
  {
   "cell_type": "code",
   "execution_count": null,
   "metadata": {},
   "outputs": [],
   "source": [
    "# your code here\n",
    "\n",
    "#trimmed = ..."
   ]
  },
  {
   "cell_type": "markdown",
   "metadata": {},
   "source": [
    "# Change the sampling frequency\n",
    "Try to change it and listen to the file (same wave with a different sampling frequency).\n",
    "\n",
    "Can you explain what's happening? (rember how we created one note in the previous notebook, and what is different from one note to another)."
   ]
  },
  {
   "cell_type": "code",
   "execution_count": null,
   "metadata": {},
   "outputs": [],
   "source": [
    "# your code\n",
    "\n",
    "# try to change it also to the song we composed, what is the result?"
   ]
  },
  {
   "cell_type": "markdown",
   "metadata": {},
   "source": [
    "# Create an echo in your audio file !\n",
    "How do we record a file with an echo?\n",
    "\n",
    "Rember: audio is linear (you can sum two sounds!) \n",
    "and the echo is just a delayed version of your original file (try with 0.2 seconds)"
   ]
  },
  {
   "cell_type": "code",
   "execution_count": null,
   "metadata": {},
   "outputs": [],
   "source": [
    "# your code\n",
    "\n",
    "\n",
    "# try to change it also to the song we composed, what is the result?"
   ]
  },
  {
   "cell_type": "code",
   "execution_count": null,
   "metadata": {},
   "outputs": [],
   "source": [
    "# other files to test?\n",
    "# http://www.dailywav.com/sites/default/files/wavs/bearsterrifying.wav"
   ]
  },
  {
   "cell_type": "markdown",
   "metadata": {},
   "source": [
    "# Speech recognition\n",
    "\n",
    "Try to covert your audio into text! \n",
    "\n",
    "Download the .wav file on your computer.\n",
    "\n",
    "Open: https://cloud.google.com/speech-to-text/\n",
    "Look for: \"Convert your speech to text right now\" "
   ]
  },
  {
   "cell_type": "markdown",
   "metadata": {},
   "source": [
    "### Now do the same thing with other wav files!  \n",
    "* What happens if you use the one where you added noise?\n",
    "* What happens if you take only a portion of an audio file?\n",
    "* What happens if you mix the recordings together? \n",
    "* What happens if you speed up / slow down the recordings?"
   ]
  },
  {
   "cell_type": "code",
   "execution_count": null,
   "metadata": {},
   "outputs": [],
   "source": [
    "# your code here to create all the alternative .wav files\n"
   ]
  },
  {
   "cell_type": "code",
   "execution_count": null,
   "metadata": {},
   "outputs": [],
   "source": []
  },
  {
   "cell_type": "code",
   "execution_count": null,
   "metadata": {},
   "outputs": [],
   "source": []
  }
 ],
 "metadata": {
  "kernelspec": {
   "display_name": "Python 3",
   "language": "python",
   "name": "python3"
  },
  "language_info": {
   "codemirror_mode": {
    "name": "ipython",
    "version": 3
   },
   "file_extension": ".py",
   "mimetype": "text/x-python",
   "name": "python",
   "nbconvert_exporter": "python",
   "pygments_lexer": "ipython3",
   "version": "3.7.7"
  }
 },
 "nbformat": 4,
 "nbformat_minor": 2
}
